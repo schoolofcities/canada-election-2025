{
 "cells": [
  {
   "cell_type": "code",
   "execution_count": 34,
   "metadata": {},
   "outputs": [],
   "source": [
    "import os\n",
    "import re\n",
    "import json\n",
    "\n",
    "import numpy as np\n",
    "import pandas as pd\n",
    "import geopandas as gpd\n",
    "from tqdm import tqdm\n",
    "tqdm.pandas()"
   ]
  },
  {
   "cell_type": "code",
   "execution_count": 29,
   "metadata": {},
   "outputs": [],
   "source": [
    "REGIONS = [\n",
    "    'Montréal',\n",
    "    'Greater Toronto Area',\n",
    "    'Vancouver'\n",
    "]\n",
    "\n",
    "CSDs = [\n",
    "    'Halifax',\n",
    "    'Québec',\n",
    "    'Island of Montreal',\n",
    "    'Ottawa',\n",
    "    'Toronto',\n",
    "    'Winnipeg',\n",
    "    'Calgary',\n",
    "    'Edmonton',\n",
    "    'Vancouver'\n",
    "]\n",
    "\n",
    "PARTY_TAGS_MAP = {\n",
    "    'Liberal Party of Canada': 'lib',\n",
    "    'Conservative Party of Canada': 'con',\n",
    "    'New Democratic Party': 'ndp',\n",
    "    'Bloc Québécois': 'bloc',\n",
    "    'Green Party of Canada': 'grn',\n",
    "    \"People's Party of Canada\": 'ppc',\n",
    "    'Other': 'oth',\n",
    "}"
   ]
  },
  {
   "cell_type": "code",
   "execution_count": 36,
   "metadata": {},
   "outputs": [],
   "source": [
    "df_results = pd.read_csv('../data/fed_results.csv')\n",
    "df_ridings = pd.read_csv('../data/fed_ridings_tagged.csv')\n",
    "\n",
    "# Filter out rejected ballots\n",
    "df_results = df_results[df_results['party_name'] != 'Rejected']\n",
    "\n",
    "# Add dummy results for 2025\n",
    "df_results['2025_num_votes'] = np.random.choice(50000, df_results.shape[0])"
   ]
  },
  {
   "cell_type": "markdown",
   "metadata": {},
   "source": [
    "Generate the percentage of votes for each party in each CSD we target, and each region we target, as separate files."
   ]
  },
  {
   "cell_type": "code",
   "execution_count": 27,
   "metadata": {},
   "outputs": [],
   "source": [
    "# Merge riding metadata into results\n",
    "df = df_results.merge(df_ridings[['FED_NUM', 'CSD', 'region']], on='FED_NUM', how='left')\n",
    "\n",
    "def compute_vote_shares(df, group_col, output_path):\n",
    "    \"\"\"\n",
    "    Compute percentage vote shares by group_col (CSD or region).\n",
    "    \"\"\"\n",
    "    # Filter for desired regions or CSDs\n",
    "    df = df[df[group_col].isin(CSDs if group_col == 'CSD' else REGIONS)]\n",
    "\n",
    "    # Sum votes by group and party\n",
    "    grouped = df.groupby([group_col, 'party_name'])[['2021_num_votes', '2025_num_votes']].sum().reset_index()\n",
    "\n",
    "    # Compute total votes per group (excluding Rejected already)\n",
    "    totals = grouped.groupby(group_col)[['2021_num_votes', '2025_num_votes']].sum().rename(columns={\n",
    "        '2021_num_votes': '2021_total',\n",
    "        '2025_num_votes': '2025_total'\n",
    "    }).reset_index()\n",
    "\n",
    "    # Merge totals back\n",
    "    merged = grouped.merge(totals, on=group_col)\n",
    "\n",
    "    # Calculate percentages\n",
    "    merged['2021_pct_vote'] = (merged['2021_num_votes'] / merged['2021_total']) * 100\n",
    "    merged['2025_pct_vote'] = (merged['2025_num_votes'] / merged['2025_total']) * 100\n",
    "    merged['pct_vote_change'] = merged['2025_pct_vote'] - merged['2021_pct_vote']\n",
    "\n",
    "    # Final formatting\n",
    "    final = merged[[group_col, 'party_name', '2021_pct_vote', '2025_pct_vote', 'pct_vote_change']]\n",
    "    final.loc[:, ['2021_pct_vote', '2025_pct_vote', 'pct_vote_change']] = final[\n",
    "        ['2021_pct_vote', '2025_pct_vote', 'pct_vote_change']\n",
    "    ].round(4)\n",
    "\n",
    "    # Save to CSV\n",
    "    final.to_csv(output_path, index=False)\n",
    "    return final\n",
    "\n",
    "# Compute for both CSDs and regions\n",
    "csd_final = compute_vote_shares(df.copy(), 'CSD', '../data/results/votes/csd_results.csv')\n",
    "region_final = compute_vote_shares(df.copy(), 'region', '../data/results/votes/region_results.csv')"
   ]
  },
  {
   "cell_type": "code",
   "execution_count": 35,
   "metadata": {},
   "outputs": [],
   "source": [
    "# Helper function to convert a dataframe to the nested dictionary format\n",
    "def df_to_nested_dict(df, group_col):\n",
    "    output = {}\n",
    "    for name, group in df.groupby(group_col):\n",
    "        output[name] = {\n",
    "            '2021_pct_vote': {},\n",
    "            '2025_pct_vote': {},\n",
    "            'pct_vote_change': {}\n",
    "        }\n",
    "        for _, row in group.iterrows():\n",
    "            tag = PARTY_TAGS_MAP.get(row['party_name'], row['party_name'])\n",
    "            output[name]['2021_pct_vote'][tag] = row['2021_pct_vote']\n",
    "            output[name]['2025_pct_vote'][tag] = row['2025_pct_vote']\n",
    "            output[name]['pct_vote_change'][tag] = row['pct_vote_change']\n",
    "    return output\n",
    "\n",
    "# Generate nested dictionaries\n",
    "csd_results_dict = df_to_nested_dict(csd_final, 'CSD')\n",
    "region_results_dict = df_to_nested_dict(region_final, 'region')\n",
    "\n",
    "# Save CSD results to JSON\n",
    "with open('../data/results/votes/csd_results.json', 'w') as f:\n",
    "    json.dump(csd_results_dict, f, indent=4)\n",
    "\n",
    "# Save region results to JSON\n",
    "with open('../data/results/votes/region_results.json', 'w') as f:\n",
    "    json.dump(region_results_dict, f, indent=4)"
   ]
  }
 ],
 "metadata": {
  "kernelspec": {
   "display_name": "py312",
   "language": "python",
   "name": "python3"
  },
  "language_info": {
   "codemirror_mode": {
    "name": "ipython",
    "version": 3
   },
   "file_extension": ".py",
   "mimetype": "text/x-python",
   "name": "python",
   "nbconvert_exporter": "python",
   "pygments_lexer": "ipython3",
   "version": "3.12.5"
  }
 },
 "nbformat": 4,
 "nbformat_minor": 2
}
