{
 "cells": [
  {
   "cell_type": "code",
   "execution_count": 12,
   "metadata": {},
   "outputs": [],
   "source": [
    "import os\n",
    "import re\n",
    "\n",
    "import numpy as np\n",
    "import pandas as pd\n",
    "import geopandas as gpd\n",
    "from tqdm import tqdm\n",
    "tqdm.pandas()"
   ]
  },
  {
   "cell_type": "code",
   "execution_count": 13,
   "metadata": {},
   "outputs": [],
   "source": [
    "valid_CMA = [\n",
    "    \"St. John's\", \n",
    "    \"Halifax\", \n",
    "    \"Québec\", \n",
    "    \"Montréal\", \n",
    "    \"Ottawa - Gatineau (Ontario part / partie de l'Ontario)\", \n",
    "    \"Toronto\", \n",
    "    \"Kitchener - Cambridge - Waterloo\", \n",
    "    \"Hamilton\", \n",
    "    \"London\", \n",
    "    \"Winnipeg\", \n",
    "    \"Regina\", \n",
    "    \"Saskatoon\", \n",
    "    \"Edmonton\", \n",
    "    \"Calgary\", \n",
    "    \"Vancouver\", \n",
    "    \"Victoria\"\n",
    "]\n",
    "\n",
    "valid_mont = [\n",
    "    \"Montréal\", \n",
    "    \"Montréal-Est\", \n",
    "    \"Montréal-Ouest\", \n",
    "    \"Westmount\", \n",
    "    \"Côte-Saint-Luc\", \n",
    "    \"Mont-Royal\", \n",
    "    \"Hampstead\", \n",
    "    \"Dorval\", \n",
    "    \"Pointe-Claire\", \n",
    "    \"Dollard-Des Ormeaux\", \n",
    "    \"Kirkland\", \n",
    "    \"Beaconsfield\", \n",
    "    \"Baie-D'Urfé\", \n",
    "    \"Sainte-Anne-de-Bellevue\", \n",
    "    \"Senneville\"\n",
    "]"
   ]
  },
  {
   "cell_type": "markdown",
   "metadata": {},
   "source": [
    "Filter for the CMAs that we are interested in, and replace the Toronto CMA with the Greater Toronto Area region"
   ]
  },
  {
   "cell_type": "code",
   "execution_count": 39,
   "metadata": {},
   "outputs": [],
   "source": [
    "gdf_cma = gpd.read_file('../data/boundaries/cen_cma/')"
   ]
  },
  {
   "cell_type": "code",
   "execution_count": null,
   "metadata": {},
   "outputs": [],
   "source": [
    "gdf_regions = gdf_cma.loc[gdf_cma['CMANAME'].isin(valid_CMA)].reset_index(drop=True)\n",
    "\n",
    "# Substitute Toronto CMA for GTA\n",
    "gdf_gta = gpd.read_file('../data/boundaries/greater-toronto-area.gpkg')\n",
    "gdf_gta = gdf_gta.to_crs(gdf_regions.crs)\n",
    "gdf_gta['CMANAME'] = 'Greater Toronto Area'\n",
    "gdf_regions = pd.concat([gdf_regions, gdf_gta], ignore_index=True)\n",
    "gdf_regions = gdf_regions[gdf_regions['CMANAME'] != 'Toronto']\n",
    "\n",
    "gdf_regions = gdf_regions.rename(columns={'CMANAME': 'REGION_NAME'})\n",
    "gdf_regions = gdf_regions.drop(columns=['DGUID', 'DGUIDP', 'CMATYPE', 'LANDAREA', 'PRUID'])\n",
    "gdf_regions.to_file('../data/boundaries/valid_regions.gpkg', driver='GPKG')"
   ]
  },
  {
   "cell_type": "markdown",
   "metadata": {},
   "source": [
    "Filter for the CSDs which are contained within a CMA/region, then replace all the CSDs on the Island of Montreal with the combined geography"
   ]
  },
  {
   "cell_type": "code",
   "execution_count": 40,
   "metadata": {},
   "outputs": [],
   "source": [
    "gdf_csd = gpd.read_file('../data/boundaries/cen_csd/')"
   ]
  },
  {
   "cell_type": "code",
   "execution_count": null,
   "metadata": {},
   "outputs": [
    {
     "data": {
      "text/html": [
       "<div>\n",
       "<style scoped>\n",
       "    .dataframe tbody tr th:only-of-type {\n",
       "        vertical-align: middle;\n",
       "    }\n",
       "\n",
       "    .dataframe tbody tr th {\n",
       "        vertical-align: top;\n",
       "    }\n",
       "\n",
       "    .dataframe thead th {\n",
       "        text-align: right;\n",
       "    }\n",
       "</style>\n",
       "<table border=\"1\" class=\"dataframe\">\n",
       "  <thead>\n",
       "    <tr style=\"text-align: right;\">\n",
       "      <th></th>\n",
       "      <th>CSDUID</th>\n",
       "      <th>DGUID</th>\n",
       "      <th>CSDNAME</th>\n",
       "      <th>CSDTYPE</th>\n",
       "      <th>LANDAREA</th>\n",
       "      <th>PRUID</th>\n",
       "      <th>geometry</th>\n",
       "    </tr>\n",
       "  </thead>\n",
       "  <tbody>\n",
       "    <tr>\n",
       "      <th>0</th>\n",
       "      <td>1001101</td>\n",
       "      <td>2021A00051001101</td>\n",
       "      <td>Division No.  1, Subd. V</td>\n",
       "      <td>SNO</td>\n",
       "      <td>870.8928</td>\n",
       "      <td>10</td>\n",
       "      <td>MULTIPOLYGON (((8991051.954 2038839.069, 89910...</td>\n",
       "    </tr>\n",
       "    <tr>\n",
       "      <th>1</th>\n",
       "      <td>1001105</td>\n",
       "      <td>2021A00051001105</td>\n",
       "      <td>Portugal Cove South</td>\n",
       "      <td>T</td>\n",
       "      <td>1.0770</td>\n",
       "      <td>10</td>\n",
       "      <td>POLYGON ((9001504.369 2049856.597, 9001184.977...</td>\n",
       "    </tr>\n",
       "    <tr>\n",
       "      <th>2</th>\n",
       "      <td>1001113</td>\n",
       "      <td>2021A00051001113</td>\n",
       "      <td>Trepassey</td>\n",
       "      <td>T</td>\n",
       "      <td>54.2130</td>\n",
       "      <td>10</td>\n",
       "      <td>POLYGON ((8992311.551 2054468.074, 8994001.626...</td>\n",
       "    </tr>\n",
       "    <tr>\n",
       "      <th>3</th>\n",
       "      <td>1001120</td>\n",
       "      <td>2021A00051001120</td>\n",
       "      <td>St. Shott's</td>\n",
       "      <td>T</td>\n",
       "      <td>1.0729</td>\n",
       "      <td>10</td>\n",
       "      <td>POLYGON ((8985240.566 2028560.540, 8984967.974...</td>\n",
       "    </tr>\n",
       "    <tr>\n",
       "      <th>4</th>\n",
       "      <td>1001124</td>\n",
       "      <td>2021A00051001124</td>\n",
       "      <td>Division No.  1, Subd. U</td>\n",
       "      <td>SNO</td>\n",
       "      <td>742.3781</td>\n",
       "      <td>10</td>\n",
       "      <td>MULTIPOLYGON (((8995265.971 2098624.091, 89952...</td>\n",
       "    </tr>\n",
       "  </tbody>\n",
       "</table>\n",
       "</div>"
      ],
      "text/plain": [
       "    CSDUID             DGUID                   CSDNAME CSDTYPE  LANDAREA  \\\n",
       "0  1001101  2021A00051001101  Division No.  1, Subd. V     SNO  870.8928   \n",
       "1  1001105  2021A00051001105       Portugal Cove South       T    1.0770   \n",
       "2  1001113  2021A00051001113                 Trepassey       T   54.2130   \n",
       "3  1001120  2021A00051001120               St. Shott's       T    1.0729   \n",
       "4  1001124  2021A00051001124  Division No.  1, Subd. U     SNO  742.3781   \n",
       "\n",
       "  PRUID                                           geometry  \n",
       "0    10  MULTIPOLYGON (((8991051.954 2038839.069, 89910...  \n",
       "1    10  POLYGON ((9001504.369 2049856.597, 9001184.977...  \n",
       "2    10  POLYGON ((8992311.551 2054468.074, 8994001.626...  \n",
       "3    10  POLYGON ((8985240.566 2028560.540, 8984967.974...  \n",
       "4    10  MULTIPOLYGON (((8995265.971 2098624.091, 89952...  "
      ]
     },
     "execution_count": 42,
     "metadata": {},
     "output_type": "execute_result"
    }
   ],
   "source": []
  }
 ],
 "metadata": {
  "kernelspec": {
   "display_name": "py312",
   "language": "python",
   "name": "python3"
  },
  "language_info": {
   "codemirror_mode": {
    "name": "ipython",
    "version": 3
   },
   "file_extension": ".py",
   "mimetype": "text/x-python",
   "name": "python",
   "nbconvert_exporter": "python",
   "pygments_lexer": "ipython3",
   "version": "3.12.5"
  }
 },
 "nbformat": 4,
 "nbformat_minor": 2
}
