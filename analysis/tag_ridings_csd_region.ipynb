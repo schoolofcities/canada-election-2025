{
 "cells": [
  {
   "cell_type": "code",
   "execution_count": 1,
   "metadata": {},
   "outputs": [],
   "source": [
    "import os\n",
    "import re\n",
    "\n",
    "import numpy as np\n",
    "import pandas as pd\n",
    "import geopandas as gpd\n",
    "from tqdm import tqdm\n",
    "tqdm.pandas()"
   ]
  },
  {
   "cell_type": "code",
   "execution_count": 8,
   "metadata": {},
   "outputs": [],
   "source": [
    "valid_CMA = [\n",
    "    # \"St. John's\", \n",
    "    \"Halifax\", \n",
    "    \"Québec\", \n",
    "    \"Montréal\", \n",
    "    \"Ottawa - Gatineau (Ontario part / partie de l'Ontario)\", \n",
    "    \"Toronto\", \n",
    "    # \"Kitchener - Cambridge - Waterloo\", \n",
    "    # \"Hamilton\", \n",
    "    # \"London\", \n",
    "    \"Winnipeg\", \n",
    "    # \"Regina\", \n",
    "    # \"Saskatoon\", \n",
    "    \"Edmonton\", \n",
    "    \"Calgary\", \n",
    "    \"Vancouver\", \n",
    "    # \"Victoria\"\n",
    "]\n",
    "\n",
    "valid_mont = [\n",
    "    \"Montréal\", \n",
    "    \"Montréal-Est\", \n",
    "    \"Montréal-Ouest\", \n",
    "    \"Westmount\", \n",
    "    \"Côte-Saint-Luc\", \n",
    "    \"Mont-Royal\", \n",
    "    \"Hampstead\", \n",
    "    \"Dorval\", \n",
    "    \"Pointe-Claire\", \n",
    "    \"Dollard-Des Ormeaux\", \n",
    "    \"Kirkland\", \n",
    "    \"Beaconsfield\", \n",
    "    \"Baie-D'Urfé\", \n",
    "    \"Sainte-Anne-de-Bellevue\", \n",
    "    \"Senneville\"\n",
    "]\n",
    "\n",
    "RENAME_CSD_MAP = {\n",
    "    \"Québec\": \"Quebec City\",\n",
    "}\n",
    "\n",
    "RENAME_REGION_MAP = {\n",
    "    \"Montréal\": \"Greater Montreal\",\n",
    "    \"Québec\": \"Quebec City\",\n",
    "    \"Ottawa - Gatineau (Ontario part / partie de l'Ontario)\": \"Greater Ottawa\",\n",
    "    \"Vancouver\": \"Metro Vancouver\",\n",
    "}"
   ]
  },
  {
   "cell_type": "markdown",
   "metadata": {},
   "source": [
    "Filter for the CMAs that we are interested in, and replace the Toronto CMA with the Greater Toronto Area region"
   ]
  },
  {
   "cell_type": "code",
   "execution_count": 6,
   "metadata": {},
   "outputs": [],
   "source": [
    "gdf_cma = gpd.read_file('../data/boundaries/cen_cma/')"
   ]
  },
  {
   "cell_type": "code",
   "execution_count": 7,
   "metadata": {},
   "outputs": [],
   "source": [
    "gdf_regions = gdf_cma.loc[gdf_cma['CMANAME'].isin(valid_CMA)].reset_index(drop=True)\n",
    "\n",
    "# Substitute Toronto CMA for GTA\n",
    "gdf_gta = gpd.read_file('../data/boundaries/greater-toronto-area.gpkg')\n",
    "gdf_gta = gdf_gta.to_crs(gdf_regions.crs)\n",
    "gdf_gta['CMANAME'] = 'Greater Toronto Area'\n",
    "gdf_regions = pd.concat([gdf_regions, gdf_gta], ignore_index=True)\n",
    "gdf_regions = gdf_regions[gdf_regions['CMANAME'] != 'Toronto']\n",
    "\n",
    "gdf_regions = gdf_regions.rename(columns={'CMANAME': 'REGION_NAME'})\n",
    "gdf_regions = gdf_regions.drop(columns=['DGUID', 'DGUIDP', 'CMATYPE', 'LANDAREA', 'PRUID'])\n",
    "gdf_regions.to_file('../data/boundaries/valid_regions.gpkg', driver='GPKG')"
   ]
  },
  {
   "cell_type": "markdown",
   "metadata": {},
   "source": [
    "Filter for the CSDs which are contained within a CMA/region, then replace all the CSDs on the Island of Montreal with the combined geography"
   ]
  },
  {
   "cell_type": "code",
   "execution_count": 9,
   "metadata": {},
   "outputs": [],
   "source": [
    "gdf_csd = gpd.read_file('../data/boundaries/cen_csd/')\n",
    "gdf_regions = gpd.read_file('../data/boundaries/valid_regions.gpkg')"
   ]
  },
  {
   "cell_type": "code",
   "execution_count": 10,
   "metadata": {},
   "outputs": [],
   "source": [
    "# Spatial join to get intersecting pairs\n",
    "gdf_joined = gpd.sjoin(gdf_csd, gdf_regions, how='inner', predicate='intersects')\n",
    "\n",
    "# Compute area of each CSD (before intersection)\n",
    "gdf_csd_area = gdf_csd[['CSDUID', 'geometry']].copy()\n",
    "gdf_csd_area['area_csd'] = gdf_csd_area.geometry.area\n",
    "\n",
    "# Merge area info into joined set\n",
    "gdf_joined = gdf_joined.merge(gdf_csd_area[['CSDUID', 'area_csd']], on='CSDUID')\n",
    "\n",
    "# Compute intersection geometry between each CSD and region\n",
    "gdf_joined['intersection_geom'] = gdf_joined.geometry.intersection(gdf_regions.unary_union)\n",
    "gdf_joined['area_intersection'] = gdf_joined['intersection_geom'].area\n",
    "\n",
    "# Filter to those with ≥10% overlap\n",
    "gdf_filtered = gdf_joined[gdf_joined['area_intersection'] / gdf_joined['area_csd'] >= 0.10]\n",
    "\n",
    "# Select final columns and write to file\n",
    "gdf_filtered = gdf_filtered[['CSDUID', 'CSDNAME', 'geometry']]\n",
    "gdf_filtered.to_file('../data/boundaries/valid_csds.gpkg', driver='GPKG')"
   ]
  },
  {
   "cell_type": "code",
   "execution_count": 11,
   "metadata": {},
   "outputs": [],
   "source": [
    "# Load valid CSDs\n",
    "gdf_csd = gpd.read_file('../data/boundaries/valid_csds.gpkg')\n",
    "\n",
    "# 1. Filter CSDs that are part of the Island of Montreal\n",
    "montreal_csds = gdf_csd[gdf_csd['CSDNAME'].isin(valid_mont)]\n",
    "\n",
    "# 2. Remove them from the full set\n",
    "gdf_csd_cleaned = gdf_csd[~gdf_csd['CSDNAME'].isin(valid_mont)]\n",
    "\n",
    "# 3. Dissolve Montreal CSDs into a single unified geometry\n",
    "montreal_geom = montreal_csds.unary_union\n",
    "montreal_unified = gpd.GeoDataFrame({\n",
    "    'CSDNAME': ['Island of Montreal'],\n",
    "    'geometry': [montreal_geom]\n",
    "}, crs=gdf_csd.crs)\n",
    "\n",
    "# 4. Add missing columns (set to None) and preserve schema\n",
    "for col in gdf_csd_cleaned.columns:\n",
    "    if col not in montreal_unified.columns:\n",
    "        montreal_unified[col] = None\n",
    "montreal_unified = montreal_unified[gdf_csd_cleaned.columns]  # column order match\n",
    "\n",
    "# 5. Merge and save\n",
    "final_gdf = pd.concat([gdf_csd_cleaned, montreal_unified], ignore_index=True)\n",
    "final_gdf.to_file('../data/boundaries/valid_csds.gpkg', driver='GPKG')\n"
   ]
  },
  {
   "cell_type": "markdown",
   "metadata": {},
   "source": [
    "Clean up the ridings so that we only get what intersects with the shoreline boundaries as determined by the province and territories file."
   ]
  },
  {
   "cell_type": "code",
   "execution_count": 3,
   "metadata": {},
   "outputs": [],
   "source": [
    "gdf_ridings = gpd.read_file('../data/fed_ridings.gpkg')\n",
    "gdf_canada = gpd.read_file('../data/boundaries/canada_simplified_fixed.gpkg')"
   ]
  },
  {
   "cell_type": "code",
   "execution_count": 4,
   "metadata": {},
   "outputs": [
    {
     "name": "stderr",
     "output_type": "stream",
     "text": [
      "/tmp/ipykernel_602683/2053149256.py:11: UserWarning: `keep_geom_type=True` in overlay resulted in 69505 dropped geometries of different geometry types than df1 has. Set `keep_geom_type=False` to retain all geometries\n",
      "  gdf_clipped = gpd.overlay(gdf_ridings, gdf_canada, how='intersection')\n"
     ]
    }
   ],
   "source": [
    "# Reproject both to the same CRS\n",
    "target_crs = \"EPSG:3347\"  # Statistics Canada Lambert\n",
    "gdf_ridings = gdf_ridings.to_crs(target_crs)\n",
    "gdf_canada = gdf_canada.to_crs(target_crs)\n",
    "\n",
    "# Ensure gdf_canada is a single polygon (in case it's multi-feature)\n",
    "canada_union = gdf_canada.unary_union\n",
    "gdf_canada = gpd.GeoDataFrame(geometry=[canada_union], crs=target_crs)\n",
    "\n",
    "# Use GeoPandas overlay with intersection — this is fast & preserves attributes\n",
    "gdf_clipped = gpd.overlay(gdf_ridings, gdf_canada, how='intersection')\n",
    "\n",
    "# Write to file\n",
    "gdf_clipped.to_file('../data/fed_ridings_clipped.gpkg', driver='GPKG')"
   ]
  },
  {
   "cell_type": "markdown",
   "metadata": {},
   "source": [
    "Tag every riding with a CSD and region provided there is at least 50% overlapping area"
   ]
  },
  {
   "cell_type": "code",
   "execution_count": 12,
   "metadata": {},
   "outputs": [],
   "source": [
    "gdf_regions = gpd.read_file('../data/boundaries/valid_regions.gpkg')\n",
    "gdf_csd = gpd.read_file('../data/boundaries/valid_csds.gpkg')\n",
    "gdf_ridings = gpd.read_file('../data/fed_ridings_clipped.gpkg')"
   ]
  },
  {
   "cell_type": "code",
   "execution_count": 14,
   "metadata": {},
   "outputs": [],
   "source": [
    "# Ensure all geometries are valid and in same CRS\n",
    "target_crs = \"EPSG:3347\"  # NAD83 Statistics Canada Lambert\n",
    "\n",
    "gdf_regions = gdf_regions.to_crs(target_crs)\n",
    "gdf_csd = gdf_csd.to_crs(target_crs)\n",
    "gdf_ridings = gdf_ridings.to_crs(target_crs)\n",
    "\n",
    "# Calculate riding areas (now only land area)\n",
    "gdf_ridings['riding_area'] = gdf_ridings.geometry.area\n",
    "\n",
    "def get_best_overlap(target_gdf, source_gdf, source_name_col, min_coverage=0.5):\n",
    "    \"\"\"\n",
    "    Find best overlapping feature for each target geometry.\n",
    "    Returns a Series with the best matches.\n",
    "    \"\"\"\n",
    "    results = pd.Series(index=target_gdf.index, dtype='object')\n",
    "    \n",
    "    for idx, target_geom in target_gdf.geometry.items():\n",
    "        # Find all intersecting features\n",
    "        intersections = source_gdf[source_gdf.intersects(target_geom)].copy()\n",
    "        \n",
    "        if len(intersections) == 0:\n",
    "            continue\n",
    "            \n",
    "        # Calculate intersection areas\n",
    "        intersections['intersection_area'] = intersections.geometry.intersection(target_geom).area\n",
    "        intersections['coverage'] = intersections['intersection_area'] / target_gdf.loc[idx, 'riding_area']\n",
    "        \n",
    "        # Get best match\n",
    "        best_match = intersections.loc[intersections['coverage'].idxmax()]\n",
    "        \n",
    "        if best_match['coverage'] >= min_coverage:\n",
    "            results.at[idx] = best_match[source_name_col]\n",
    "            \n",
    "    return results\n",
    "\n",
    "# Add CSD column (using clipped ridings)\n",
    "gdf_ridings['CSD'] = get_best_overlap(gdf_ridings, gdf_csd, 'CSDNAME')\n",
    "\n",
    "# Add region column (using clipped ridings)\n",
    "gdf_ridings['region'] = get_best_overlap(gdf_ridings, gdf_regions, 'REGION_NAME')\n",
    "\n",
    "# Drop temporary column\n",
    "gdf_ridings = gdf_ridings.drop(columns=['riding_area'])\n",
    "\n",
    "# Rename certain tags\n",
    "gdf_ridings['CSD'] = gdf_ridings['CSD'].apply(lambda x: RENAME_CSD_MAP[x] if x in RENAME_CSD_MAP else x)\n",
    "gdf_ridings['region'] = gdf_ridings['region'].apply(lambda x: RENAME_REGION_MAP[x] if x in RENAME_REGION_MAP else x)\n",
    "\n",
    "# Save results\n",
    "gdf_ridings.to_file('../data/fed_ridings_tagged.gpkg', layer='fed_ridings_tagged', driver='GPKG', index=False)\n",
    "gdf_ridings.drop(columns='geometry').to_csv('../data/fed_ridings_tagged.csv', index=False)"
   ]
  }
 ],
 "metadata": {
  "kernelspec": {
   "display_name": "py312",
   "language": "python",
   "name": "python3"
  },
  "language_info": {
   "codemirror_mode": {
    "name": "ipython",
    "version": 3
   },
   "file_extension": ".py",
   "mimetype": "text/x-python",
   "name": "python",
   "nbconvert_exporter": "python",
   "pygments_lexer": "ipython3",
   "version": "3.12.5"
  }
 },
 "nbformat": 4,
 "nbformat_minor": 2
}
