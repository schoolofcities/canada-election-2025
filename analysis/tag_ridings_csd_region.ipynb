{
 "cells": [
  {
   "cell_type": "code",
   "execution_count": 12,
   "metadata": {},
   "outputs": [],
   "source": [
    "import os\n",
    "import re\n",
    "\n",
    "import numpy as np\n",
    "import pandas as pd\n",
    "import geopandas as gpd\n",
    "from tqdm import tqdm\n",
    "tqdm.pandas()"
   ]
  },
  {
   "cell_type": "code",
   "execution_count": 13,
   "metadata": {},
   "outputs": [],
   "source": [
    "valid_CMA = [\n",
    "    \"St. John's\", \n",
    "    \"Halifax\", \n",
    "    \"Québec\", \n",
    "    \"Montréal\", \n",
    "    \"Ottawa - Gatineau (Ontario part / partie de l'Ontario)\", \n",
    "    \"Toronto\", \n",
    "    \"Kitchener - Cambridge - Waterloo\", \n",
    "    \"Hamilton\", \n",
    "    \"London\", \n",
    "    \"Winnipeg\", \n",
    "    \"Regina\", \n",
    "    \"Saskatoon\", \n",
    "    \"Edmonton\", \n",
    "    \"Calgary\", \n",
    "    \"Vancouver\", \n",
    "    \"Victoria\"\n",
    "]\n",
    "\n",
    "valid_mont = [\n",
    "    \"Montréal\", \n",
    "    \"Montréal-Est\", \n",
    "    \"Montréal-Ouest\", \n",
    "    \"Westmount\", \n",
    "    \"Côte-Saint-Luc\", \n",
    "    \"Mont-Royal\", \n",
    "    \"Hampstead\", \n",
    "    \"Dorval\", \n",
    "    \"Pointe-Claire\", \n",
    "    \"Dollard-Des Ormeaux\", \n",
    "    \"Kirkland\", \n",
    "    \"Beaconsfield\", \n",
    "    \"Baie-D'Urfé\", \n",
    "    \"Sainte-Anne-de-Bellevue\", \n",
    "    \"Senneville\"\n",
    "]"
   ]
  },
  {
   "cell_type": "markdown",
   "metadata": {},
   "source": [
    "Filter for the CMAs that we are interested in, and replace the Toronto CMA with the Greater Toronto Area region"
   ]
  },
  {
   "cell_type": "code",
   "execution_count": 39,
   "metadata": {},
   "outputs": [],
   "source": [
    "gdf_cma = gpd.read_file('../data/boundaries/cen_cma/')"
   ]
  },
  {
   "cell_type": "code",
   "execution_count": null,
   "metadata": {},
   "outputs": [],
   "source": [
    "gdf_regions = gdf_cma.loc[gdf_cma['CMANAME'].isin(valid_CMA)].reset_index(drop=True)\n",
    "\n",
    "# Substitute Toronto CMA for GTA\n",
    "gdf_gta = gpd.read_file('../data/boundaries/greater-toronto-area.gpkg')\n",
    "gdf_gta = gdf_gta.to_crs(gdf_regions.crs)\n",
    "gdf_gta['CMANAME'] = 'Greater Toronto Area'\n",
    "gdf_regions = pd.concat([gdf_regions, gdf_gta], ignore_index=True)\n",
    "gdf_regions = gdf_regions[gdf_regions['CMANAME'] != 'Toronto']\n",
    "\n",
    "gdf_regions = gdf_regions.rename(columns={'CMANAME': 'REGION_NAME'})\n",
    "gdf_regions = gdf_regions.drop(columns=['DGUID', 'DGUIDP', 'CMATYPE', 'LANDAREA', 'PRUID'])\n",
    "gdf_regions.to_file('../data/boundaries/valid_regions.gpkg', driver='GPKG')"
   ]
  },
  {
   "cell_type": "markdown",
   "metadata": {},
   "source": [
    "Filter for the CSDs which are contained within a CMA/region, then replace all the CSDs on the Island of Montreal with the combined geography"
   ]
  },
  {
   "cell_type": "code",
   "execution_count": 115,
   "metadata": {},
   "outputs": [],
   "source": [
    "gdf_csd = gpd.read_file('../data/boundaries/cen_csd/')\n",
    "gdf_regions = gpd.read_file('../data/boundaries/valid_regions.gpkg')"
   ]
  },
  {
   "cell_type": "code",
   "execution_count": 116,
   "metadata": {},
   "outputs": [],
   "source": [
    "gdf_csd = gpd.sjoin(gdf_csd, gdf_regions, how='inner', predicate='intersects')\n",
    "gdf_csd = gdf_csd[gdf_csd.columns.intersection([\n",
    "    'CSDUID', 'CSDNAME', 'geometry'  # Keep only these columns\n",
    "])]\n",
    "gdf_csd.to_file('../data/boundaries/valid_csds.gpkg', driver='GPKG')"
   ]
  },
  {
   "cell_type": "code",
   "execution_count": 117,
   "metadata": {},
   "outputs": [],
   "source": [
    "# 1. First get ONLY Montreal CSDs by combining name and spatial filtering\n",
    "montreal_boundary = gpd.read_file('../data/boundaries/ile-de-montreal.gpkg').to_crs(gdf_csd.crs)\n",
    "montreal_csds = gpd.sjoin(\n",
    "    gdf_csd,\n",
    "    montreal_boundary,\n",
    "    how='inner',\n",
    "    predicate='within'  # Or 'intersects' if some border cases exist\n",
    ")['CSDNAME'].unique().tolist()\n",
    "\n",
    "# 2. Now filter using BOTH name list AND spatial confirmation\n",
    "gdf_csd = gpd.read_file('../data/boundaries/valid_csds.gpkg')\n",
    "to_remove = gdf_csd['CSDNAME'].isin(valid_mont) & gdf_csd['CSDUID'].isin(montreal_csds)\n",
    "gdf_csd = gdf_csd[~to_remove]\n",
    "\n",
    "# 3. Add unified Montreal (rest of your existing code works fine)\n",
    "montreal_geom = montreal_boundary.geometry.iloc[0]\n",
    "new_row = gpd.GeoDataFrame({\n",
    "    'CSDNAME': ['Island of Montreal'],\n",
    "    'geometry': [montreal_geom]\n",
    "}, crs=gdf_csd.crs)\n",
    "\n",
    "for col in gdf_csd.columns:\n",
    "    if col not in new_row:\n",
    "        new_row[col] = None\n",
    "\n",
    "final_gdf = pd.concat([gdf_csd, new_row], ignore_index=True)\n",
    "final_gdf.to_file('../data/boundaries/valid_csds.gpkg', driver='GPKG')"
   ]
  }
 ],
 "metadata": {
  "kernelspec": {
   "display_name": "py312",
   "language": "python",
   "name": "python3"
  },
  "language_info": {
   "codemirror_mode": {
    "name": "ipython",
    "version": 3
   },
   "file_extension": ".py",
   "mimetype": "text/x-python",
   "name": "python",
   "nbconvert_exporter": "python",
   "pygments_lexer": "ipython3",
   "version": "3.12.5"
  }
 },
 "nbformat": 4,
 "nbformat_minor": 2
}
